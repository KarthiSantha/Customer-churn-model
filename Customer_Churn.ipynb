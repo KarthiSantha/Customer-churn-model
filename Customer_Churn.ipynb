{
 "cells": [
  {
   "cell_type": "code",
   "execution_count": 2,
   "metadata": {},
   "outputs": [],
   "source": [
    "import numpy as np\n",
    "import matplotlib.pyplot as plt\n",
    "import pandas as pd\n"
   ]
  },
  {
   "cell_type": "code",
   "execution_count": 6,
   "metadata": {},
   "outputs": [],
   "source": [
    "# Importing the dataset\n",
    "dataset = pd.read_csv('/home/karthi_krish/Customer-churn-model/Churn_Modelling.csv')\n",
    "X = dataset.iloc[:, 3:13].values\n",
    "y = dataset.iloc[:, 13].values\n"
   ]
  },
  {
   "cell_type": "code",
   "execution_count": 7,
   "metadata": {},
   "outputs": [
    {
     "name": "stderr",
     "output_type": "stream",
     "text": [
      "/home/karthi_krish/.local/lib/python3.6/site-packages/sklearn/preprocessing/_encoders.py:368: FutureWarning: The handling of integer data will change in version 0.22. Currently, the categories are determined based on the range [0, max(values)], while in the future they will be determined based on the unique values.\n",
      "If you want the future behaviour and silence this warning, you can specify \"categories='auto'\".\n",
      "In case you used a LabelEncoder before this OneHotEncoder to convert the categories to integers, then you can now use the OneHotEncoder directly.\n",
      "  warnings.warn(msg, FutureWarning)\n",
      "/home/karthi_krish/.local/lib/python3.6/site-packages/sklearn/preprocessing/_encoders.py:390: DeprecationWarning: The 'categorical_features' keyword is deprecated in version 0.20 and will be removed in 0.22. You can use the ColumnTransformer instead.\n",
      "  \"use the ColumnTransformer instead.\", DeprecationWarning)\n"
     ]
    }
   ],
   "source": [
    "# Encoding categorical data\n",
    "from sklearn.preprocessing import LabelEncoder, OneHotEncoder\n",
    "labelencoder_X_1 = LabelEncoder()\n",
    "X[:, 1] = labelencoder_X_1.fit_transform(X[:, 1])\n",
    "labelencoder_X_2 = LabelEncoder()\n",
    "X[:, 2] = labelencoder_X_2.fit_transform(X[:, 2])\n",
    "onehotencoder = OneHotEncoder(categorical_features = [1])\n",
    "X = onehotencoder.fit_transform(X).toarray()\n",
    "X = X[:, 1:]"
   ]
  },
  {
   "cell_type": "code",
   "execution_count": 8,
   "metadata": {},
   "outputs": [],
   "source": [
    "\n",
    "# Splitting the dataset into the Training set and Test set\n",
    "from sklearn.model_selection import train_test_split\n",
    "X_train, X_test, y_train, y_test = train_test_split(X, y, test_size = 0.2, random_state = 0)"
   ]
  },
  {
   "cell_type": "code",
   "execution_count": 9,
   "metadata": {},
   "outputs": [],
   "source": [
    "from sklearn.preprocessing import StandardScaler\n",
    "sc = StandardScaler()\n",
    "X_train = sc.fit_transform(X_train)\n",
    "X_test = sc.transform(X_test)"
   ]
  },
  {
   "cell_type": "code",
   "execution_count": 10,
   "metadata": {},
   "outputs": [
    {
     "name": "stderr",
     "output_type": "stream",
     "text": [
      "Using TensorFlow backend.\n"
     ]
    }
   ],
   "source": [
    "# Importing the Keras libraries and packages\n",
    "import keras\n",
    "from keras.models import Sequential\n",
    "from keras.layers import Dense"
   ]
  },
  {
   "cell_type": "code",
   "execution_count": 11,
   "metadata": {},
   "outputs": [
    {
     "name": "stdout",
     "output_type": "stream",
     "text": [
      "Epoch 1/100\n",
      "8000/8000 [==============================] - 2s 243us/step - loss: 0.4950 - acc: 0.7952\n",
      "Epoch 2/100\n",
      "8000/8000 [==============================] - 1s 112us/step - loss: 0.4284 - acc: 0.7960\n",
      "Epoch 3/100\n",
      "8000/8000 [==============================] - 1s 117us/step - loss: 0.4234 - acc: 0.7960\n",
      "Epoch 4/100\n",
      "8000/8000 [==============================] - 1s 113us/step - loss: 0.4192 - acc: 0.8141\n",
      "Epoch 5/100\n",
      "8000/8000 [==============================] - 1s 111us/step - loss: 0.4170 - acc: 0.8250\n",
      "Epoch 6/100\n",
      "8000/8000 [==============================] - 1s 108us/step - loss: 0.4150 - acc: 0.8274\n",
      "Epoch 7/100\n",
      "8000/8000 [==============================] - 1s 109us/step - loss: 0.4129 - acc: 0.8301\n",
      "Epoch 8/100\n",
      "8000/8000 [==============================] - 1s 115us/step - loss: 0.4121 - acc: 0.8307\n",
      "Epoch 9/100\n",
      "8000/8000 [==============================] - 1s 119us/step - loss: 0.4105 - acc: 0.8317\n",
      "Epoch 10/100\n",
      "8000/8000 [==============================] - 1s 125us/step - loss: 0.4097 - acc: 0.8319\n",
      "Epoch 11/100\n",
      "8000/8000 [==============================] - 1s 114us/step - loss: 0.4087 - acc: 0.8331\n",
      "Epoch 12/100\n",
      "8000/8000 [==============================] - 1s 131us/step - loss: 0.4079 - acc: 0.8337\n",
      "Epoch 13/100\n",
      "8000/8000 [==============================] - 1s 125us/step - loss: 0.4073 - acc: 0.8330\n",
      "Epoch 14/100\n",
      "8000/8000 [==============================] - 1s 122us/step - loss: 0.4067 - acc: 0.8331\n",
      "Epoch 15/100\n",
      "8000/8000 [==============================] - 1s 123us/step - loss: 0.4060 - acc: 0.8330\n",
      "Epoch 16/100\n",
      "8000/8000 [==============================] - 1s 115us/step - loss: 0.4056 - acc: 0.8336\n",
      "Epoch 17/100\n",
      "8000/8000 [==============================] - 1s 128us/step - loss: 0.4053 - acc: 0.8345\n",
      "Epoch 18/100\n",
      "8000/8000 [==============================] - 1s 112us/step - loss: 0.4049 - acc: 0.8350\n",
      "Epoch 19/100\n",
      "8000/8000 [==============================] - 1s 114us/step - loss: 0.4043 - acc: 0.8346\n",
      "Epoch 20/100\n",
      "8000/8000 [==============================] - 1s 115us/step - loss: 0.4040 - acc: 0.8347\n",
      "Epoch 21/100\n",
      "8000/8000 [==============================] - 1s 110us/step - loss: 0.4039 - acc: 0.8359\n",
      "Epoch 22/100\n",
      "8000/8000 [==============================] - 1s 109us/step - loss: 0.4035 - acc: 0.8341\n",
      "Epoch 23/100\n",
      "8000/8000 [==============================] - 1s 111us/step - loss: 0.4032 - acc: 0.8345\n",
      "Epoch 24/100\n",
      "8000/8000 [==============================] - 1s 110us/step - loss: 0.4034 - acc: 0.8366\n",
      "Epoch 25/100\n",
      "8000/8000 [==============================] - 1s 109us/step - loss: 0.4026 - acc: 0.8330\n",
      "Epoch 26/100\n",
      "8000/8000 [==============================] - 1s 114us/step - loss: 0.4027 - acc: 0.8359\n",
      "Epoch 27/100\n",
      "8000/8000 [==============================] - 1s 121us/step - loss: 0.4025 - acc: 0.8356\n",
      "Epoch 28/100\n",
      "8000/8000 [==============================] - 1s 135us/step - loss: 0.4024 - acc: 0.8340\n",
      "Epoch 29/100\n",
      "8000/8000 [==============================] - 1s 126us/step - loss: 0.4022 - acc: 0.8357\n",
      "Epoch 30/100\n",
      "8000/8000 [==============================] - 1s 128us/step - loss: 0.4017 - acc: 0.8351\n",
      "Epoch 31/100\n",
      "8000/8000 [==============================] - 1s 126us/step - loss: 0.4015 - acc: 0.8350\n",
      "Epoch 32/100\n",
      "8000/8000 [==============================] - 1s 113us/step - loss: 0.4018 - acc: 0.8337\n",
      "Epoch 33/100\n",
      "8000/8000 [==============================] - 1s 113us/step - loss: 0.4016 - acc: 0.8341\n",
      "Epoch 34/100\n",
      "8000/8000 [==============================] - 1s 116us/step - loss: 0.4013 - acc: 0.8342\n",
      "Epoch 35/100\n",
      "8000/8000 [==============================] - 1s 112us/step - loss: 0.4014 - acc: 0.8355\n",
      "Epoch 36/100\n",
      "8000/8000 [==============================] - 1s 110us/step - loss: 0.4008 - acc: 0.8350\n",
      "Epoch 37/100\n",
      "8000/8000 [==============================] - 1s 112us/step - loss: 0.4008 - acc: 0.8349\n",
      "Epoch 38/100\n",
      "8000/8000 [==============================] - 1s 128us/step - loss: 0.4010 - acc: 0.8327\n",
      "Epoch 39/100\n",
      "8000/8000 [==============================] - 1s 130us/step - loss: 0.4002 - acc: 0.8355\n",
      "Epoch 40/100\n",
      "8000/8000 [==============================] - 1s 128us/step - loss: 0.4001 - acc: 0.8355\n",
      "Epoch 41/100\n",
      "8000/8000 [==============================] - 1s 146us/step - loss: 0.3996 - acc: 0.8346\n",
      "Epoch 42/100\n",
      "8000/8000 [==============================] - 1s 133us/step - loss: 0.3993 - acc: 0.8352\n",
      "Epoch 43/100\n",
      "8000/8000 [==============================] - 1s 114us/step - loss: 0.3996 - acc: 0.8354\n",
      "Epoch 44/100\n",
      "8000/8000 [==============================] - 1s 119us/step - loss: 0.3986 - acc: 0.8352\n",
      "Epoch 45/100\n",
      "8000/8000 [==============================] - 1s 111us/step - loss: 0.3984 - acc: 0.8365\n",
      "Epoch 46/100\n",
      "8000/8000 [==============================] - 1s 113us/step - loss: 0.3985 - acc: 0.8356\n",
      "Epoch 47/100\n",
      "8000/8000 [==============================] - 1s 112us/step - loss: 0.3977 - acc: 0.8371\n",
      "Epoch 48/100\n",
      "8000/8000 [==============================] - 1s 136us/step - loss: 0.3974 - acc: 0.8375\n",
      "Epoch 49/100\n",
      "8000/8000 [==============================] - 1s 136us/step - loss: 0.3973 - acc: 0.8354\n",
      "Epoch 50/100\n",
      "8000/8000 [==============================] - 1s 119us/step - loss: 0.3970 - acc: 0.8364\n",
      "Epoch 51/100\n",
      "8000/8000 [==============================] - 1s 131us/step - loss: 0.3969 - acc: 0.8361\n",
      "Epoch 52/100\n",
      "8000/8000 [==============================] - 1s 117us/step - loss: 0.3967 - acc: 0.8344\n",
      "Epoch 53/100\n",
      "8000/8000 [==============================] - 1s 121us/step - loss: 0.3972 - acc: 0.8361\n",
      "Epoch 54/100\n",
      "8000/8000 [==============================] - 1s 140us/step - loss: 0.3965 - acc: 0.8370\n",
      "Epoch 55/100\n",
      "8000/8000 [==============================] - 1s 120us/step - loss: 0.3967 - acc: 0.8374\n",
      "Epoch 56/100\n",
      "8000/8000 [==============================] - 1s 133us/step - loss: 0.3965 - acc: 0.8365\n",
      "Epoch 57/100\n",
      "8000/8000 [==============================] - 1s 127us/step - loss: 0.3963 - acc: 0.8367\n",
      "Epoch 58/100\n",
      "8000/8000 [==============================] - 1s 133us/step - loss: 0.3959 - acc: 0.8369\n",
      "Epoch 59/100\n",
      "8000/8000 [==============================] - 1s 109us/step - loss: 0.3961 - acc: 0.8381\n",
      "Epoch 60/100\n",
      "8000/8000 [==============================] - 1s 127us/step - loss: 0.3958 - acc: 0.8366\n",
      "Epoch 61/100\n",
      "8000/8000 [==============================] - 1s 144us/step - loss: 0.3956 - acc: 0.8371\n",
      "Epoch 62/100\n",
      "8000/8000 [==============================] - 1s 138us/step - loss: 0.3958 - acc: 0.8360\n",
      "Epoch 63/100\n",
      "8000/8000 [==============================] - 1s 109us/step - loss: 0.3958 - acc: 0.8377\n",
      "Epoch 64/100\n",
      "8000/8000 [==============================] - 1s 111us/step - loss: 0.3954 - acc: 0.8372\n",
      "Epoch 65/100\n",
      "8000/8000 [==============================] - 1s 182us/step - loss: 0.3957 - acc: 0.8371\n",
      "Epoch 66/100\n",
      "8000/8000 [==============================] - 1s 137us/step - loss: 0.3956 - acc: 0.8350\n",
      "Epoch 67/100\n",
      "8000/8000 [==============================] - 1s 107us/step - loss: 0.3952 - acc: 0.8350\n",
      "Epoch 68/100\n",
      "8000/8000 [==============================] - 1s 117us/step - loss: 0.3953 - acc: 0.8359\n",
      "Epoch 69/100\n",
      "8000/8000 [==============================] - 1s 126us/step - loss: 0.3955 - acc: 0.8361\n",
      "Epoch 70/100\n",
      "8000/8000 [==============================] - 1s 122us/step - loss: 0.3952 - acc: 0.8366\n",
      "Epoch 71/100\n",
      "8000/8000 [==============================] - 1s 127us/step - loss: 0.3949 - acc: 0.8349\n",
      "Epoch 72/100\n",
      "8000/8000 [==============================] - 1s 121us/step - loss: 0.3948 - acc: 0.8365\n",
      "Epoch 73/100\n",
      "8000/8000 [==============================] - 1s 106us/step - loss: 0.3948 - acc: 0.8355\n",
      "Epoch 74/100\n",
      "8000/8000 [==============================] - 1s 101us/step - loss: 0.3952 - acc: 0.8376\n",
      "Epoch 75/100\n",
      "8000/8000 [==============================] - 1s 123us/step - loss: 0.3950 - acc: 0.8364\n",
      "Epoch 76/100\n",
      "8000/8000 [==============================] - 1s 111us/step - loss: 0.3949 - acc: 0.8360\n",
      "Epoch 77/100\n",
      "8000/8000 [==============================] - 1s 106us/step - loss: 0.3950 - acc: 0.8360\n",
      "Epoch 78/100\n",
      "8000/8000 [==============================] - 1s 104us/step - loss: 0.3944 - acc: 0.8364\n",
      "Epoch 79/100\n",
      "8000/8000 [==============================] - 1s 104us/step - loss: 0.3944 - acc: 0.8361\n",
      "Epoch 80/100\n",
      "8000/8000 [==============================] - 1s 102us/step - loss: 0.3945 - acc: 0.8361\n",
      "Epoch 81/100\n",
      "8000/8000 [==============================] - 1s 122us/step - loss: 0.3949 - acc: 0.8361\n",
      "Epoch 82/100\n"
     ]
    },
    {
     "name": "stdout",
     "output_type": "stream",
     "text": [
      "8000/8000 [==============================] - 1s 128us/step - loss: 0.3946 - acc: 0.8376\n",
      "Epoch 83/100\n",
      "8000/8000 [==============================] - 1s 109us/step - loss: 0.3944 - acc: 0.8371\n",
      "Epoch 84/100\n",
      "8000/8000 [==============================] - 1s 116us/step - loss: 0.3945 - acc: 0.8367\n",
      "Epoch 85/100\n",
      "8000/8000 [==============================] - 1s 111us/step - loss: 0.3940 - acc: 0.8360\n",
      "Epoch 86/100\n",
      "8000/8000 [==============================] - 1s 111us/step - loss: 0.3950 - acc: 0.8367\n",
      "Epoch 87/100\n",
      "8000/8000 [==============================] - 1s 123us/step - loss: 0.3944 - acc: 0.8367\n",
      "Epoch 88/100\n",
      "8000/8000 [==============================] - 1s 115us/step - loss: 0.3943 - acc: 0.8352\n",
      "Epoch 89/100\n",
      "8000/8000 [==============================] - 1s 130us/step - loss: 0.3945 - acc: 0.8371\n",
      "Epoch 90/100\n",
      "8000/8000 [==============================] - 1s 113us/step - loss: 0.3942 - acc: 0.8360\n",
      "Epoch 91/100\n",
      "8000/8000 [==============================] - 1s 103us/step - loss: 0.3946 - acc: 0.8351\n",
      "Epoch 92/100\n",
      "8000/8000 [==============================] - 1s 104us/step - loss: 0.3940 - acc: 0.8364\n",
      "Epoch 93/100\n",
      "8000/8000 [==============================] - 1s 103us/step - loss: 0.3942 - acc: 0.8370\n",
      "Epoch 94/100\n",
      "8000/8000 [==============================] - 1s 103us/step - loss: 0.3936 - acc: 0.8386\n",
      "Epoch 95/100\n",
      "8000/8000 [==============================] - 1s 102us/step - loss: 0.3943 - acc: 0.8366\n",
      "Epoch 96/100\n",
      "8000/8000 [==============================] - 1s 112us/step - loss: 0.3940 - acc: 0.8359\n",
      "Epoch 97/100\n",
      "8000/8000 [==============================] - 1s 107us/step - loss: 0.3937 - acc: 0.8372\n",
      "Epoch 98/100\n",
      "8000/8000 [==============================] - 1s 104us/step - loss: 0.3942 - acc: 0.8369\n",
      "Epoch 99/100\n",
      "8000/8000 [==============================] - 1s 111us/step - loss: 0.3936 - acc: 0.8351\n",
      "Epoch 100/100\n",
      "8000/8000 [==============================] - 1s 112us/step - loss: 0.3941 - acc: 0.8362\n"
     ]
    },
    {
     "data": {
      "text/plain": [
       "<keras.callbacks.History at 0x7f197242ef60>"
      ]
     },
     "execution_count": 11,
     "metadata": {},
     "output_type": "execute_result"
    }
   ],
   "source": [
    "# Initialising the ANN\n",
    "classifier = Sequential()\n",
    "\n",
    "# Adding the input layer and the first hidden layer\n",
    "classifier.add(Dense(units = 6, kernel_initializer = 'uniform', activation = 'relu', input_dim = 11))\n",
    "\n",
    "# Adding the second hidden layer\n",
    "classifier.add(Dense(units = 6, kernel_initializer = 'uniform', activation = 'relu'))\n",
    "\n",
    "# Adding the output layer\n",
    "classifier.add(Dense(units = 1, kernel_initializer = 'uniform', activation = 'sigmoid'))\n",
    "\n",
    "# Compiling the ANN\n",
    "classifier.compile(optimizer = 'adam', loss = 'binary_crossentropy', metrics = ['accuracy'])\n",
    "\n",
    "# Fitting the ANN to the Training set\n",
    "classifier.fit(X_train, y_train, batch_size = 10, epochs = 100)"
   ]
  },
  {
   "cell_type": "code",
   "execution_count": 12,
   "metadata": {},
   "outputs": [],
   "source": [
    "# Making predictions and evaluating the model\n",
    "\n",
    "# Predicting the Test set results\n",
    "y_pred = classifier.predict(X_test)\n",
    "y_pred = (y_pred > 0.5)\n",
    "\n",
    "# Making the Confusion Matrix\n",
    "from sklearn.metrics import confusion_matrix,accuracy\n",
    "cm = confusion_matrix(y_test, y_pred)"
   ]
  },
  {
   "cell_type": "code",
   "execution_count": 13,
   "metadata": {},
   "outputs": [
    {
     "data": {
      "text/plain": [
       "array([[1548,   47],\n",
       "       [ 263,  142]])"
      ]
     },
     "execution_count": 13,
     "metadata": {},
     "output_type": "execute_result"
    }
   ],
   "source": [
    "cm"
   ]
  },
  {
   "cell_type": "code",
   "execution_count": null,
   "metadata": {},
   "outputs": [],
   "source": []
  }
 ],
 "metadata": {
  "kernelspec": {
   "display_name": "Python 3",
   "language": "python",
   "name": "python3"
  },
  "language_info": {
   "codemirror_mode": {
    "name": "ipython",
    "version": 3
   },
   "file_extension": ".py",
   "mimetype": "text/x-python",
   "name": "python",
   "nbconvert_exporter": "python",
   "pygments_lexer": "ipython3",
   "version": "3.6.5"
  }
 },
 "nbformat": 4,
 "nbformat_minor": 2
}
